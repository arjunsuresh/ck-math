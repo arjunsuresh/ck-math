{
 "cells": [
  {
   "cell_type": "markdown",
   "metadata": {
    "deletable": true,
    "editable": true
   },
   "source": [
    "# [PUBLIC] CLBlast vs ARM Compute Library on representative matrix sizes"
   ]
  },
  {
   "cell_type": "markdown",
   "metadata": {},
   "source": [
    "## Overview\n",
    "1. [Data](#data) [for developers]\n",
    "1. [Code](#data) [for developers]\n",
    "1. [Table](#table)\n",
    "1. [Plot](#plot)"
   ]
  },
  {
   "cell_type": "markdown",
   "metadata": {
    "deletable": true,
    "editable": true
   },
   "source": [
    "<a id=\"data\"></a>\n",
    "## Get the experimental data"
   ]
  },
  {
   "cell_type": "code",
   "execution_count": null,
   "metadata": {
    "collapsed": true
   },
   "outputs": [],
   "source": [
    "repo_uoa = 'explore-matrix-size-gemm-libs-odroid-xu3'"
   ]
  },
  {
   "cell_type": "markdown",
   "metadata": {
    "deletable": true,
    "editable": true
   },
   "source": [
    "**NB:** Please ignore this section if you are not interested in re-running or modifying this notebook. "
   ]
  },
  {
   "cell_type": "markdown",
   "metadata": {
    "deletable": true,
    "editable": true
   },
   "source": [
    "The experimental data was collected on the experimental platform and archived as follows:\n",
    "```\n",
    "$ cd `ck find ck-math:script:<...>`\n",
    "$ python <...>.py\n",
    "$ ck zip local:experiment:* --archive_name=<...>.zip\n",
    "```\n",
    "\n",
    "It can be downloaded and extracted as follows:\n",
    "```\n",
    "$ wget <...>.zip\n",
    "$ ck add repo:<repo_uoa> --zip=<....>.zip --quiet\n",
    "```"
   ]
  },
  {
   "cell_type": "markdown",
   "metadata": {
    "deletable": true,
    "editable": true
   },
   "source": [
    "<a id=\"code\"></a>\n",
    "## Data wrangling code"
   ]
  },
  {
   "cell_type": "markdown",
   "metadata": {
    "deletable": true,
    "editable": true
   },
   "source": [
    "**NB:** Please ignore this section if you are not interested in re-running or modifying this notebook."
   ]
  },
  {
   "cell_type": "markdown",
   "metadata": {
    "deletable": true,
    "editable": true
   },
   "source": [
    "### Includes"
   ]
  },
  {
   "cell_type": "markdown",
   "metadata": {
    "deletable": true,
    "editable": true
   },
   "source": [
    "#### Standard"
   ]
  },
  {
   "cell_type": "code",
   "execution_count": null,
   "metadata": {
    "collapsed": true,
    "deletable": true,
    "editable": true
   },
   "outputs": [],
   "source": [
    "import os\n",
    "import sys\n",
    "import json\n",
    "import re"
   ]
  },
  {
   "cell_type": "markdown",
   "metadata": {
    "deletable": true,
    "editable": true
   },
   "source": [
    "#### Scientific"
   ]
  },
  {
   "cell_type": "markdown",
   "metadata": {
    "deletable": true,
    "editable": true
   },
   "source": [
    "If some of the scientific packages are missing, please install them using:\n",
    "```\n",
    "# pip install jupyter pandas numpy matplotlib\n",
    "```"
   ]
  },
  {
   "cell_type": "code",
   "execution_count": null,
   "metadata": {
    "collapsed": false,
    "deletable": true,
    "editable": true
   },
   "outputs": [],
   "source": [
    "import IPython as ip\n",
    "import pandas as pd\n",
    "import numpy as np\n",
    "import seaborn as sns\n",
    "import matplotlib as mp"
   ]
  },
  {
   "cell_type": "code",
   "execution_count": null,
   "metadata": {
    "collapsed": false,
    "deletable": true,
    "editable": true
   },
   "outputs": [],
   "source": [
    "print ('IPython version: %s' % ip.__version__)\n",
    "print ('Pandas version: %s' % pd.__version__)\n",
    "print ('NumPy version: %s' % np.__version__)\n",
    "print ('Seaborn version: %s' % sns.__version__) # apt install python-tk\n",
    "print ('Matplotlib version: %s' % mp.__version__)"
   ]
  },
  {
   "cell_type": "code",
   "execution_count": null,
   "metadata": {
    "collapsed": false,
    "deletable": true,
    "editable": true
   },
   "outputs": [],
   "source": [
    "import matplotlib.pyplot as plt\n",
    "from matplotlib import cm\n",
    "%matplotlib inline"
   ]
  },
  {
   "cell_type": "code",
   "execution_count": null,
   "metadata": {
    "collapsed": true
   },
   "outputs": [],
   "source": [
    "from IPython.display import Image, display\n",
    "def display_in_full(df):\n",
    "    pd.options.display.max_columns = len(df.columns)\n",
    "    pd.options.display.max_rows = len(df.index)\n",
    "    display(df)"
   ]
  },
  {
   "cell_type": "markdown",
   "metadata": {
    "deletable": true,
    "editable": true
   },
   "source": [
    "#### Collective Knowledge"
   ]
  },
  {
   "cell_type": "markdown",
   "metadata": {
    "deletable": true,
    "editable": true
   },
   "source": [
    "If CK is not installed, please install it using:\n",
    "```\n",
    "# pip install ck\n",
    "```"
   ]
  },
  {
   "cell_type": "code",
   "execution_count": null,
   "metadata": {
    "collapsed": false,
    "deletable": true,
    "editable": true
   },
   "outputs": [],
   "source": [
    "import ck.kernel as ck\n",
    "print ('CK version: %s' % ck.__version__)"
   ]
  },
  {
   "cell_type": "markdown",
   "metadata": {
    "deletable": true,
    "editable": true
   },
   "source": [
    "### Define helper functions"
   ]
  },
  {
   "cell_type": "code",
   "execution_count": null,
   "metadata": {
    "collapsed": false,
    "deletable": true,
    "editable": true
   },
   "outputs": [],
   "source": [
    "# client: 'acl-sgemm-opencl-example' or 'clblast-tune'\n",
    "def get_mnk(characteristics, client):\n",
    "    # dim: 'm', 'n', 'k'\n",
    "    def get_dim_int(characteristics, client, dim):\n",
    "        if client == 'clblast-tune':\n",
    "            dim_str = characteristics['run'][dim][0]\n",
    "            if dim_str[-1] == 'K':\n",
    "                dim_int = np.int64(dim_str[0:-1])*1024\n",
    "            else:\n",
    "                dim_int = np.int64(dim_str)\n",
    "        else:\n",
    "            dim_str = characteristics['run'][dim]\n",
    "            dim_int = np.int64(dim_str)\n",
    "        return dim_int\n",
    "\n",
    "    m = get_dim_int(characteristics, client, 'm')\n",
    "    n = get_dim_int(characteristics, client, 'n')\n",
    "    k = get_dim_int(characteristics, client, 'k')\n",
    "\n",
    "    return ('(%d, %d, %d)' % (m, n, k))"
   ]
  },
  {
   "cell_type": "code",
   "execution_count": null,
   "metadata": {
    "collapsed": true,
    "deletable": true,
    "editable": true
   },
   "outputs": [],
   "source": [
    "def get_GFLOPS(characteristics, client):\n",
    "    if client == 'acl-sgemm-opencl-example':\n",
    "        GFLOPS_str = characteristics['run']['GFLOPS_1']\n",
    "    else:\n",
    "        GFLOPS_str = characteristics['run']['GFLOPS_1'][0]\n",
    "    GFLOPS = np.float(GFLOPS_str)\n",
    "    return GFLOPS"
   ]
  },
  {
   "cell_type": "markdown",
   "metadata": {},
   "source": [
    "### Plot experimental data"
   ]
  },
  {
   "cell_type": "code",
   "execution_count": null,
   "metadata": {
    "collapsed": true
   },
   "outputs": [],
   "source": [
    "default_colormap = cm.autumn\n",
    "default_figsize = [20, 12]\n",
    "default_dpi = 200\n",
    "default_fontsize = 20\n",
    "default_legend_fontsize = 'medium'\n",
    "\n",
    "if mp.__version__[0]=='2': mp.style.use('classic')\n",
    "mp.rcParams['figure.figsize'] = default_figsize\n",
    "mp.rcParams['figure.dpi'] = default_dpi\n",
    "mp.rcParams['font.size'] = default_fontsize\n",
    "mp.rcParams['legend.fontsize'] = default_legend_fontsize"
   ]
  },
  {
   "cell_type": "code",
   "execution_count": null,
   "metadata": {
    "collapsed": true
   },
   "outputs": [],
   "source": [
    "def plot(df_mean, df_std, rot=90, patch_fontsize=default_fontsize):\n",
    "    ax = df_mean.plot(yerr=df_std,\n",
    "        kind='bar', ylim=[0, 20], rot=rot, width=0.9, grid=True, legend=True,\n",
    "        figsize=default_figsize, colormap=default_colormap, fontsize=default_fontsize)\n",
    "    ax.set_title('ARM Compute Library vs CLBlast (dv/dt)', fontsize=default_fontsize)\n",
    "    ax.set_ylabel('SGEMM GFLOPS', fontsize=default_fontsize)\n",
    "    ax.legend(loc='upper right')\n",
    "    for patch in ax.patches:\n",
    "        text = '{0:2.1f}'.format(patch.get_height())\n",
    "        ax.annotate(text, (patch.get_x()*1.00, patch.get_height()*1.01), fontsize=patch_fontsize)"
   ]
  },
  {
   "cell_type": "markdown",
   "metadata": {
    "deletable": true,
    "editable": true
   },
   "source": [
    "### Access experimental data"
   ]
  },
  {
   "cell_type": "code",
   "execution_count": null,
   "metadata": {
    "collapsed": false,
    "deletable": true,
    "editable": true
   },
   "outputs": [],
   "source": [
    "def get_experimental_results(repo_uoa='local', tags='explore-matrix-size-libs-sgemm'):\n",
    "    module_uoa = 'experiment'\n",
    "    r = ck.access({'action':'search', 'repo_uoa':repo_uoa, 'module_uoa':module_uoa, 'tags':tags})\n",
    "    if r['return']>0:\n",
    "        print (\"Error: %s\" % r['error'])\n",
    "        exit(1)\n",
    "    experiments = r['lst']\n",
    "    \n",
    "    dfs = []\n",
    "    for experiment in experiments:\n",
    "        data_uoa = experiment['data_uoa']\n",
    "        r = ck.access({'action':'list_points', 'repo_uoa':repo_uoa, 'module_uoa':module_uoa, 'data_uoa':data_uoa})\n",
    "        if r['return']>0:\n",
    "            print (\"Error: %s\" % r['error'])\n",
    "            exit(1)\n",
    "\n",
    "        for point in r['points']:\n",
    "            with open(os.path.join(r['path'], 'ckp-%s.0001.json' % point)) as point_file:\n",
    "                point_data_raw = json.load(point_file)\n",
    "            characteristics_list = point_data_raw['characteristics_list']\n",
    "            num_repetitions = len(characteristics_list)\n",
    "            client = data_uoa[len('explore-matrix-size-gemm-libs-'):]\n",
    "            # Obtain column data.\n",
    "            data = [\n",
    "                {\n",
    "                    'client': client,\n",
    "                    '(m, n, k)': get_mnk(characteristics, client),\n",
    "                    'GFLOPS': get_GFLOPS(characteristics, client),\n",
    "                    'repetition_id': repetition_id\n",
    "                }\n",
    "                for (characteristics, repetition_id) in zip(characteristics_list, range(num_repetitions)) \n",
    "            ]\n",
    "            #Construct a DataFrame.\n",
    "            df = pd.DataFrame(data)\n",
    "            # Set columns and index names.\n",
    "            df.columns.name = 'characteristics'\n",
    "            df.index.name = 'index'\n",
    "            df = df.set_index(['client', '(m, n, k)', 'repetition_id'])\n",
    "            # Append to the list of similarly constructed DataFrames.\n",
    "            dfs.append(df)\n",
    "    # Concatenate all constructed DataFrames (i.e. stack on top of each other).\n",
    "    result = pd.concat(dfs).unstack('client').swaplevel(axis=1)\n",
    "    return result.sort_index(level=result.index.names)"
   ]
  },
  {
   "cell_type": "markdown",
   "metadata": {},
   "source": [
    "<a id=\"table\"></a>\n",
    "## Table"
   ]
  },
  {
   "cell_type": "code",
   "execution_count": null,
   "metadata": {
    "collapsed": false,
    "deletable": true,
    "editable": true
   },
   "outputs": [],
   "source": [
    "df = get_experimental_results(repo_uoa=repo_uoa)\n",
    "display_in_full(df)"
   ]
  },
  {
   "cell_type": "markdown",
   "metadata": {},
   "source": [
    "<a id=\"plot\"></a>\n",
    "## Plot"
   ]
  },
  {
   "cell_type": "code",
   "execution_count": null,
   "metadata": {
    "collapsed": false,
    "deletable": true,
    "editable": true
   },
   "outputs": [],
   "source": [
    "df_mean = df.groupby(level=df.index.names[:-1]).mean()\n",
    "df_std = df.groupby(level=df.index.names[:-1]).std()\n",
    "plot(df_mean, df_std)"
   ]
  }
 ],
 "metadata": {
  "kernelspec": {
   "display_name": "Python 2",
   "language": "python",
   "name": "python2"
  },
  "language_info": {
   "codemirror_mode": {
    "name": "ipython",
    "version": 2
   },
   "file_extension": ".py",
   "mimetype": "text/x-python",
   "name": "python",
   "nbconvert_exporter": "python",
   "pygments_lexer": "ipython2",
   "version": "2.7.12"
  }
 },
 "nbformat": 4,
 "nbformat_minor": 0
}
