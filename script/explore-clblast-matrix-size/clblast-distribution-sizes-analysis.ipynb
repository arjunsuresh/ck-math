{
 "cells": [
  {
   "cell_type": "markdown",
   "metadata": {
    "deletable": true,
    "editable": true
   },
   "source": [
    "# [PUBLIC] Analysis of CLBlast tuning"
   ]
  },
  {
   "cell_type": "markdown",
   "metadata": {
    "deletable": true,
    "editable": true
   },
   "source": [
    "<a id=\"overview\"></a>\n",
    "## Overview"
   ]
  },
  {
   "cell_type": "markdown",
   "metadata": {
    "deletable": true,
    "editable": true
   },
   "source": [
    "This Jupyter Notebook analyses the performance that CLBlast achieves across a range of routines, sizes and configurations."
   ]
  },
  {
   "cell_type": "markdown",
   "metadata": {
    "deletable": true,
    "editable": true
   },
   "source": [
    "<a id=\"data\"></a>\n",
    "## Get the experimental data from DropBox"
   ]
  },
  {
   "cell_type": "markdown",
   "metadata": {
    "deletable": true,
    "editable": true
   },
   "source": [
    "**NB:** Please ignore this section if you are not interested in re-running or modifying this notebook. "
   ]
  },
  {
   "cell_type": "markdown",
   "metadata": {
    "deletable": true,
    "editable": true
   },
   "source": [
    "The experimental data was collected on the experimental platform and archived as follows:\n",
    "```\n",
    "$ cd `ck find ck-math:script:<...>`\n",
    "$ python <...>.py\n",
    "$ ck zip local:experiment:* --archive_name=<...>.zip\n",
    "```\n",
    "\n",
    "It can be downloaded and extracted as follows:\n",
    "```\n",
    "$ wget <...>.zip\n",
    "$ ck add repo:<....> --zip=<....>.zip --quiet\n",
    "```"
   ]
  },
  {
   "cell_type": "markdown",
   "metadata": {
    "deletable": true,
    "editable": true
   },
   "source": [
    "<a id=\"code\"></a>\n",
    "## Data wrangling code"
   ]
  },
  {
   "cell_type": "markdown",
   "metadata": {
    "deletable": true,
    "editable": true
   },
   "source": [
    "**NB:** Please ignore this section if you are not interested in re-running or modifying this notebook."
   ]
  },
  {
   "cell_type": "markdown",
   "metadata": {
    "deletable": true,
    "editable": true
   },
   "source": [
    "### Includes"
   ]
  },
  {
   "cell_type": "markdown",
   "metadata": {
    "deletable": true,
    "editable": true
   },
   "source": [
    "#### Standard"
   ]
  },
  {
   "cell_type": "code",
   "execution_count": 1,
   "metadata": {
    "collapsed": true,
    "deletable": true,
    "editable": true
   },
   "outputs": [],
   "source": [
    "import os\n",
    "import sys\n",
    "import json\n",
    "import re"
   ]
  },
  {
   "cell_type": "markdown",
   "metadata": {
    "deletable": true,
    "editable": true
   },
   "source": [
    "#### Scientific"
   ]
  },
  {
   "cell_type": "markdown",
   "metadata": {
    "deletable": true,
    "editable": true
   },
   "source": [
    "If some of the scientific packages are missing, please install them using:\n",
    "```\n",
    "# pip install jupyter pandas numpy matplotlib\n",
    "```"
   ]
  },
  {
   "cell_type": "code",
   "execution_count": 2,
   "metadata": {
    "collapsed": false,
    "deletable": true,
    "editable": true
   },
   "outputs": [],
   "source": [
    "import IPython as ip\n",
    "import pandas as pd\n",
    "import numpy as np\n",
    "import seaborn as sns\n",
    "import matplotlib as mp"
   ]
  },
  {
   "cell_type": "code",
   "execution_count": 3,
   "metadata": {
    "collapsed": false,
    "deletable": true,
    "editable": true
   },
   "outputs": [
    {
     "name": "stdout",
     "output_type": "stream",
     "text": [
      "IPython version: 5.3.0\n",
      "Pandas version: 0.19.2\n",
      "NumPy version: 1.12.0\n",
      "Seaborn version: 0.7.1\n",
      "Matplotlib version: 2.0.0\n"
     ]
    }
   ],
   "source": [
    "print ('IPython version: %s' % ip.__version__)\n",
    "print ('Pandas version: %s' % pd.__version__)\n",
    "print ('NumPy version: %s' % np.__version__)\n",
    "print ('Seaborn version: %s' % sns.__version__) # apt install python-tk\n",
    "print ('Matplotlib version: %s' % mp.__version__)"
   ]
  },
  {
   "cell_type": "code",
   "execution_count": 4,
   "metadata": {
    "collapsed": false,
    "deletable": true,
    "editable": true
   },
   "outputs": [],
   "source": [
    "import matplotlib.pyplot as plt\n",
    "from matplotlib import cm\n",
    "%matplotlib inline"
   ]
  },
  {
   "cell_type": "code",
   "execution_count": 5,
   "metadata": {
    "collapsed": true,
    "deletable": true,
    "editable": true
   },
   "outputs": [],
   "source": [
    "from IPython.display import Image\n",
    "from IPython.core.display import HTML"
   ]
  },
  {
   "cell_type": "markdown",
   "metadata": {
    "deletable": true,
    "editable": true
   },
   "source": [
    "#### Collective Knowledge"
   ]
  },
  {
   "cell_type": "markdown",
   "metadata": {
    "deletable": true,
    "editable": true
   },
   "source": [
    "If CK is not installed, please install it using:\n",
    "```\n",
    "# pip install ck\n",
    "```"
   ]
  },
  {
   "cell_type": "code",
   "execution_count": 6,
   "metadata": {
    "collapsed": false,
    "deletable": true,
    "editable": true
   },
   "outputs": [
    {
     "name": "stdout",
     "output_type": "stream",
     "text": [
      "CK version: 1.8.7\n"
     ]
    }
   ],
   "source": [
    "import ck.kernel as ck\n",
    "print ('CK version: %s' % ck.__version__)"
   ]
  },
  {
   "cell_type": "markdown",
   "metadata": {
    "deletable": true,
    "editable": true
   },
   "source": [
    "### Define helper functions"
   ]
  },
  {
   "cell_type": "code",
   "execution_count": 7,
   "metadata": {
    "collapsed": false,
    "deletable": true,
    "editable": true
   },
   "outputs": [],
   "source": [
    "# Return the number of floating-point operations for C = alpha * A * B + beta * C,\n",
    "# where A is a MxK matrix and B is a KxN matrix.\n",
    "def xgemm_flops(alpha, beta, M, K, N):\n",
    "    flops_AB = 2*M*N*K if alpha!=0 else 0\n",
    "    flops_C = 2*M*N if beta!=0 else 0\n",
    "    flops = flops_AB + flops_C\n",
    "    return flops"
   ]
  },
  {
   "cell_type": "code",
   "execution_count": 8,
   "metadata": {
    "collapsed": true,
    "deletable": true,
    "editable": true
   },
   "outputs": [],
   "source": [
    "# Return GFLOPS (Giga floating-point operations per second) for a known kernel and -1 otherwise.\n",
    "def GFLOPS(kernel, run_characteristics, time_ms):\n",
    "    if kernel.lower().find('xgemm') != -1:\n",
    "        time_ms = np.float64(time_ms)\n",
    "        alpha = np.float64(run_characteristics['arg_alpha'])\n",
    "        beta  = np.float64(run_characteristics['arg_beta'])\n",
    "        M = np.int64(run_characteristics['arg_m'])\n",
    "        K = np.int64(run_characteristics['arg_k'])\n",
    "        N = np.int64(run_characteristics['arg_n'])\n",
    "        return (1e-9 * xgemm_flops(alpha, beta, M, K, N)) / (1e-3 * time_ms)\n",
    "    else:\n",
    "        return (-1.0)"
   ]
  },
  {
   "cell_type": "code",
   "execution_count": 9,
   "metadata": {
    "collapsed": false,
    "deletable": true,
    "editable": true
   },
   "outputs": [],
   "source": [
    "def args_str(kernel, run):\n",
    "    args = ''\n",
    "    if kernel.lower().find('xgemm') != -1:\n",
    "        args = 'alpha=%s, beta=%s, M=%s, K=%s, N=%s' % \\\n",
    "            (run['arg_alpha'], run['arg_beta'], run['arg_m'], run['arg_k'], run['arg_n'])\n",
    "    return args"
   ]
  },
  {
   "cell_type": "markdown",
   "metadata": {
    "deletable": true,
    "editable": true
   },
   "source": [
    "### Access the experimental data"
   ]
  },
  {
   "cell_type": "code",
   "execution_count": 10,
   "metadata": {
    "collapsed": false,
    "deletable": true,
    "editable": true
   },
   "outputs": [],
   "source": [
    "def get_experimental_results(repo_uoa='local', tags='explore-clblast-matrix-size'):\n",
    "    module_uoa = 'experiment'\n",
    "    r = ck.access({'action':'search', 'repo_uoa':repo_uoa, 'module_uoa':module_uoa, 'tags':tags})\n",
    "    if r['return']>0:\n",
    "        print (\"Error: %s\" % r['error'])\n",
    "        exit(1)\n",
    "    experiments = r['lst']\n",
    "    \n",
    "    dfs = []\n",
    "    for experiment in experiments:\n",
    "        data_uoa = experiment['data_uoa']\n",
    "        r = ck.access({'action':'list_points', 'repo_uoa':repo_uoa, 'module_uoa':module_uoa, 'data_uoa':data_uoa})\n",
    "        if r['return']>0:\n",
    "            print (\"Error: %s\" % r['error'])\n",
    "            exit(1)\n",
    "\n",
    "        for point in r['points']:\n",
    "            with open(os.path.join(r['path'], 'ckp-%s.0001.json' % point)) as point_file:\n",
    "                point_data_raw = json.load(point_file)\n",
    "                characteristics_list = point_data_raw['characteristics_list']\n",
    "                num_repetitions = len(characteristics_list)\n",
    "                # Obtain column data.\n",
    "                data = [\n",
    "                    {\n",
    "                        'repetition_id': repetition_id,\n",
    "                        'strategy'  : tuner_output['strategy'],\n",
    "                        'config_id': config_id,\n",
    "                        'config' : config['parameters'],\n",
    "                        'kernel' : config['kernel'],\n",
    "                        'args_id' : args_str(config['kernel'], characteristics['run']),\n",
    "                        'ms' : np.float64(config['time']),\n",
    "                        'GFLOPS' : GFLOPS(config['kernel'], characteristics['run'], config['time'])\n",
    "                    }\n",
    "                    for (repetition_id, characteristics) in zip(range(num_repetitions), characteristics_list) \n",
    "                    for tuner_output in characteristics['run']['data']\n",
    "                    for (config_id, config) in zip(range(len(tuner_output['result'])), tuner_output['result'])\n",
    "                ]\n",
    "            # Construct a DataFrame.\n",
    "            df = pd.DataFrame(data)\n",
    "            # Set columns and index names.\n",
    "            df.columns.name = 'characteristics'\n",
    "            df.index.name = 'index'\n",
    "            df = df.set_index([ 'kernel', 'strategy', 'args_id', 'config_id', 'repetition_id' ])\n",
    "            # Append to the list of similarly constructed DataFrames.\n",
    "            dfs.append(df)\n",
    "    # Concatenate all constructed DataFrames (i.e. stack on top of each other).\n",
    "    result = pd.concat(dfs)\n",
    "    return result.sortlevel(result.index.names)"
   ]
  },
  {
   "cell_type": "code",
   "execution_count": 11,
   "metadata": {
    "collapsed": false,
    "deletable": true,
    "editable": true
   },
   "outputs": [],
   "source": [
    "df = get_experimental_results(tags='explore-clblast-matrix-size,xgemm_direct-fp32')\n",
    "pd.options.display.max_columns = len(df.columns)\n",
    "pd.options.display.max_rows = len(df.index)"
   ]
  },
  {
   "cell_type": "code",
   "execution_count": 12,
   "metadata": {
    "collapsed": false,
    "deletable": true,
    "editable": true
   },
   "outputs": [
    {
     "data": {
      "text/plain": [
       "u'XgemmDirectTN'"
      ]
     },
     "execution_count": 12,
     "metadata": {},
     "output_type": "execute_result"
    }
   ],
   "source": [
    "kernel0 = df.iloc[0].name[0]\n",
    "kernel0"
   ]
  },
  {
   "cell_type": "code",
   "execution_count": 13,
   "metadata": {
    "collapsed": false,
    "deletable": true,
    "editable": true
   },
   "outputs": [],
   "source": [
    "# NB: Unlike mean(), mean() retains the 'config' column.\n",
    "df_kernel0 = df.groupby(level=df.index.names[:-1]).min().loc[kernel0]\n",
    "# df_kernel0"
   ]
  },
  {
   "cell_type": "code",
   "execution_count": 14,
   "metadata": {
    "collapsed": false,
    "deletable": true,
    "editable": true
   },
   "outputs": [
    {
     "data": {
      "text/plain": [
       "strategy    args_id                                     \n",
       "exhaustive  alpha=2.00, beta=2.00, M=1024, K=128, N=1024    23.181886\n",
       "            alpha=2.00, beta=2.00, M=128, K=1024, N=128     21.571741\n",
       "            alpha=2.00, beta=2.00, M=256, K=256, N=512      22.323064\n",
       "            alpha=2.00, beta=2.00, M=512, K=128, N=256      14.741315\n",
       "random      alpha=2.00, beta=2.00, M=1024, K=128, N=1024     5.552234\n",
       "            alpha=2.00, beta=2.00, M=128, K=1024, N=128      4.224274\n",
       "            alpha=2.00, beta=2.00, M=256, K=256, N=512       5.407417\n",
       "            alpha=2.00, beta=2.00, M=512, K=128, N=256       4.862896\n",
       "Name: GFLOPS, dtype: float64"
      ]
     },
     "execution_count": 14,
     "metadata": {},
     "output_type": "execute_result"
    }
   ],
   "source": [
    "df_kernel0.groupby(level=df_kernel0.index.names[:-1])['GFLOPS'].min()"
   ]
  },
  {
   "cell_type": "code",
   "execution_count": 15,
   "metadata": {
    "collapsed": false,
    "deletable": true,
    "editable": true
   },
   "outputs": [
    {
     "data": {
      "text/plain": [
       "strategy    args_id                                     \n",
       "exhaustive  alpha=2.00, beta=2.00, M=1024, K=128, N=1024    105.553105\n",
       "            alpha=2.00, beta=2.00, M=128, K=1024, N=128      80.544844\n",
       "            alpha=2.00, beta=2.00, M=256, K=256, N=512       98.639836\n",
       "            alpha=2.00, beta=2.00, M=512, K=128, N=256       91.149801\n",
       "random      alpha=2.00, beta=2.00, M=1024, K=128, N=1024     57.917493\n",
       "            alpha=2.00, beta=2.00, M=128, K=1024, N=128      51.912210\n",
       "            alpha=2.00, beta=2.00, M=256, K=256, N=512       56.519302\n",
       "            alpha=2.00, beta=2.00, M=512, K=128, N=256       60.064966\n",
       "Name: GFLOPS, dtype: float64"
      ]
     },
     "execution_count": 15,
     "metadata": {},
     "output_type": "execute_result"
    }
   ],
   "source": [
    "df_kernel0.groupby(level=df_kernel0.index.names[:-1])['GFLOPS'].max()"
   ]
  },
  {
   "cell_type": "code",
   "execution_count": 16,
   "metadata": {
    "collapsed": false,
    "deletable": true,
    "editable": true
   },
   "outputs": [
    {
     "data": {
      "text/plain": [
       "105.55310495513071"
      ]
     },
     "execution_count": 16,
     "metadata": {},
     "output_type": "execute_result"
    }
   ],
   "source": [
    "max_GFLOPS = df_kernel0.loc[df_kernel0['GFLOPS'].argmax()]['GFLOPS']\n",
    "max_GFLOPS"
   ]
  },
  {
   "cell_type": "code",
   "execution_count": 17,
   "metadata": {
    "collapsed": false,
    "deletable": true,
    "editable": true
   },
   "outputs": [
    {
     "data": {
      "text/plain": [
       "{u'KWID': 2,\n",
       " u'MDIMAD': 8,\n",
       " u'MDIMCD': 8,\n",
       " u'NDIMBD': 16,\n",
       " u'NDIMCD': 16,\n",
       " u'PADA': 1,\n",
       " u'PADB': 1,\n",
       " u'PRECISION': 32,\n",
       " u'VWMD': 4,\n",
       " u'VWND': 2,\n",
       " u'WGD': 32}"
      ]
     },
     "execution_count": 17,
     "metadata": {},
     "output_type": "execute_result"
    }
   ],
   "source": [
    "max_GLOPS_config = df_kernel0.loc[df_kernel0['GFLOPS'].argmax()]['config']\n",
    "max_GLOPS_config"
   ]
  },
  {
   "cell_type": "markdown",
   "metadata": {
    "deletable": true,
    "editable": true
   },
   "source": [
    "#### Plot a violin graph"
   ]
  },
  {
   "cell_type": "code",
   "execution_count": 18,
   "metadata": {
    "collapsed": false,
    "deletable": true,
    "editable": true
   },
   "outputs": [
    {
     "data": {
      "text/plain": [
       "<matplotlib.collections.LineCollection at 0x7f9036c11590>"
      ]
     },
     "execution_count": 18,
     "metadata": {},
     "output_type": "execute_result"
    },
    {
     "data": {
      "image/png": "[encoded data removed]",
      "text/plain": [
       "<matplotlib.figure.Figure at 0x7f90371eb450>"
      ]
     },
     "metadata": {},
     "output_type": "display_data"
    }
   ],
   "source": [
    "plt.figure(figsize=(12, 10))\n",
    "sns.set_style('whitegrid'); sns.set_palette('Set1')\n",
    "ax = sns.violinplot(data=df_kernel0.reset_index(), x='GFLOPS', y='args_id',\n",
    "                    split=True, hue='strategy', hue_order=['random', 'exhaustive'])\n",
    "ax.set_xticks(range(0, int(max_GFLOPS), 20))\n",
    "ax.set_xlim([0, max_GFLOPS])\n",
    "# Draw a dotted purple line from top to bottom at the default value (TODO).\n",
    "ax.vlines(linestyles='dotted', colors='purple', x=124, ymin=ax.get_ylim()[0], ymax=ax.get_ylim()[1])"
   ]
  }
 ],
 "metadata": {
  "kernelspec": {
   "display_name": "Python 2",
   "language": "python",
   "name": "python2"
  },
  "language_info": {
   "codemirror_mode": {
    "name": "ipython",
    "version": 2
   },
   "file_extension": ".py",
   "mimetype": "text/x-python",
   "name": "python",
   "nbconvert_exporter": "python",
   "pygments_lexer": "ipython2",
   "version": "2.7.12"
  }
 },
 "nbformat": 4,
 "nbformat_minor": 0
}
